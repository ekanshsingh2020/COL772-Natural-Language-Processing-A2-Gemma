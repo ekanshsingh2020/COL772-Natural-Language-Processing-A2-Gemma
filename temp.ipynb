{
 "cells": [
  {
   "cell_type": "code",
   "execution_count": 1,
   "metadata": {},
   "outputs": [],
   "source": [
    "import json\n",
    "import sys\n",
    "import re\n"
   ]
  },
  {
   "cell_type": "code",
   "execution_count": 14,
   "metadata": {},
   "outputs": [],
   "source": [
    "def post_process(gen_text):\n",
    "        # extract only the first line of the generated text\n",
    "        gen_text = gen_text.split(\"\\n\")[0]\n",
    "        pattern = r\"The column name is \\'(.+?)\\' and the row number is (\\d+)\"\n",
    "\n",
    "        # Search for the pattern in the generated text\n",
    "        match = re.search(pattern, gen_text)\n",
    "\n",
    "        # If a match is found\n",
    "        if match:\n",
    "                # Extract the column name and row number\n",
    "                column_name = match.group(1)\n",
    "                row_number = int(match.group(2))\n",
    "                return column_name, row_number\n",
    "        else:\n",
    "                # If no match is found, return None\n",
    "                return None, None"
   ]
  },
  {
   "cell_type": "code",
   "execution_count": 16,
   "metadata": {},
   "outputs": [
    {
     "name": "stdout",
     "output_type": "stream",
     "text": [
      "Winners\n",
      "2\n"
     ]
    }
   ],
   "source": [
    "str = \"The column name is 'Winners' and the row number is 2\"\n",
    "tup = post_process(str)\n",
    "# remove the single quotes from the column name\n",
    "column_name = tup[0].replace(\"'\", \"\")\n",
    "row_number = tup[1]\n",
    "print(column_name)\n",
    "print(row_number)"
   ]
  }
 ],
 "metadata": {
  "kernelspec": {
   "display_name": "base",
   "language": "python",
   "name": "python3"
  },
  "language_info": {
   "codemirror_mode": {
    "name": "ipython",
    "version": 3
   },
   "file_extension": ".py",
   "mimetype": "text/x-python",
   "name": "python",
   "nbconvert_exporter": "python",
   "pygments_lexer": "ipython3",
   "version": "3.11.4"
  }
 },
 "nbformat": 4,
 "nbformat_minor": 2
}
