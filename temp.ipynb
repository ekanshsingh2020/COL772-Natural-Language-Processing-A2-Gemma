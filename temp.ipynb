{
 "cells": [
  {
   "cell_type": "code",
   "execution_count": 2,
   "metadata": {},
   "outputs": [],
   "source": [
    "import json\n",
    "import sys\n",
    "import re\n"
   ]
  },
  {
   "cell_type": "code",
   "execution_count": 14,
   "metadata": {},
   "outputs": [],
   "source": [
    "def post_process(gen_text):\n",
    "        # extract only the first line of the generated text\n",
    "        gen_text = gen_text.split(\"\\n\")[0]\n",
    "        pattern = r\"The column name is \\'(.+?)\\' and the row number is (\\d+)\"\n",
    "\n",
    "        # Search for the pattern in the generated text\n",
    "        match = re.search(pattern, gen_text)\n",
    "\n",
    "        # If a match is found\n",
    "        if match:\n",
    "                # Extract the column name and row number\n",
    "                column_name = match.group(1)\n",
    "                row_number = int(match.group(2))\n",
    "                return column_name, row_number\n",
    "        else:\n",
    "                # If no match is found, return None\n",
    "                return None, None"
   ]
  },
  {
   "cell_type": "code",
   "execution_count": 16,
   "metadata": {},
   "outputs": [
    {
     "name": "stdout",
     "output_type": "stream",
     "text": [
      "Winners\n",
      "2\n"
     ]
    }
   ],
   "source": [
    "str = \"The column name is 'Winners' and the row number is 2\"\n",
    "tup = post_process(str)\n",
    "# remove the single quotes from the column name\n",
    "column_name = tup[0].replace(\"'\", \"\")\n",
    "row_number = tup[1]\n",
    "print(column_name)\n",
    "print(row_number)"
   ]
  },
  {
   "cell_type": "code",
   "execution_count": 11,
   "metadata": {},
   "outputs": [
    {
     "name": "stdout",
     "output_type": "stream",
     "text": [
      "Column name 1: Date\n",
      "Row numbers 1: [17]\n",
      "Column name 2: Country\n",
      "Row numbers 2: [1, 3, 10]\n"
     ]
    }
   ],
   "source": [
    "def post_process(gen_text):\n",
    "    # Define the pattern to match the column name and row numbers\n",
    "    pattern = r\"The column name is '(.+?)' and the row number\\(s\\) is/are ([\\d,]+)\"\n",
    "\n",
    "    # Search for the pattern in the generated text\n",
    "    match = re.search(pattern, gen_text)\n",
    "\n",
    "    if match:\n",
    "        # Extract the column name\n",
    "        column_name = match.group(1)\n",
    "\n",
    "        # Extract and parse the row numbers\n",
    "        row_numbers_str = match.group(2)\n",
    "        row_numbers = [int(num) for num in row_numbers_str.split(\",\")]\n",
    "\n",
    "        return column_name, row_numbers\n",
    "    else:\n",
    "        return None, None\n",
    "\n",
    "# Example usage\n",
    "gen_text_1 = \"The column name is 'Date' and the row number(s) is/are 17\"\n",
    "gen_text_2 = \"The column name is 'Country' and the row number(s) is/are 1,3,10\"\n",
    "\n",
    "column_name_1, row_numbers_1 = post_process(gen_text_1)\n",
    "column_name_2, row_numbers_2 = post_process(gen_text_2)\n",
    "\n",
    "print(\"Column name 1:\", column_name_1)\n",
    "print(\"Row numbers 1:\", row_numbers_1)\n",
    "print(\"Column name 2:\", column_name_2)\n",
    "print(\"Row numbers 2:\", row_numbers_2)\n"
   ]
  }
 ],
 "metadata": {
  "kernelspec": {
   "display_name": "base",
   "language": "python",
   "name": "python3"
  },
  "language_info": {
   "codemirror_mode": {
    "name": "ipython",
    "version": 3
   },
   "file_extension": ".py",
   "mimetype": "text/x-python",
   "name": "python",
   "nbconvert_exporter": "python",
   "pygments_lexer": "ipython3",
   "version": "3.11.4"
  }
 },
 "nbformat": 4,
 "nbformat_minor": 2
}
